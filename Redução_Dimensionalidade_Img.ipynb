{
  "cells": [
    {
      "cell_type": "code",
      "execution_count": null,
      "metadata": {
        "id": "vtXz5lqY-QbP"
      },
      "outputs": [],
      "source": [
        "import cv2\n",
        "path_img = cv2.imread(\"lena.jpg\")\n",
        "cv2_imshow(path_img)"
      ]
    },
    {
      "cell_type": "code",
      "execution_count": null,
      "metadata": {
        "id": "pCeVnF6wNgU1"
      },
      "outputs": [],
      "source": [
        "R, G, B = path_img[:,:,0], path_img[:,:,1], path_img[:,:,2]\n",
        "path_img_gray = 0.2989 * R + 0.5870 * G + 0.1140 * B\n",
        "cv2_imshow(path_img_gray)"
      ]
    },
    {
      "cell_type": "code",
      "execution_count": null,
      "metadata": {
        "id": "23LO23DD2bLS"
      },
      "outputs": [],
      "source": [
        "ret, binary_image = cv2.threshold(path_img_gray, 103, 255, cv2.THRESH_BINARY)\n",
        "cv2_imshow(binary_image)"
      ]
    }
  ],
  "metadata": {
    "colab": {
      "provenance": []
    },
    "kernelspec": {
      "display_name": "Python 3",
      "name": "python3"
    },
    "language_info": {
      "name": "python"
    }
  },
  "nbformat": 4,
  "nbformat_minor": 0
}
